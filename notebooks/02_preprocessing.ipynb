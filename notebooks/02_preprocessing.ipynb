{
 "cells": [
  {
   "cell_type": "code",
   "execution_count": 1,
   "id": "cab69524",
   "metadata": {},
   "outputs": [
    {
     "name": "stdout",
     "output_type": "stream",
     "text": [
      "CWD: c:\\Users\\ASUS\\OneDrive\\Desktop\\BTP PROJECT\\BTP_Implementation\\iiot-hybrid-detection\n"
     ]
    }
   ],
   "source": [
    "import os\n",
    "os.chdir(r\"c:\\Users\\ASUS\\OneDrive\\Desktop\\BTP PROJECT\\BTP_Implementation\\iiot-hybrid-detection\")\n",
    "print(\"CWD:\", os.getcwd())\n"
   ]
  },
  {
   "cell_type": "code",
   "execution_count": 2,
   "id": "3adaff83",
   "metadata": {},
   "outputs": [
    {
     "name": "stdout",
     "output_type": "stream",
     "text": [
      "[\"'src_ip'\", \"'src_port'\", \"'dst_ip'\", \"'dst_port'\", \"'proto'\", \"'service'\", \"'duration'\", \"'src_bytes'\", \"'dst_bytes'\", \"'conn_state'\", \"'missed_bytes'\", \"'src_pkts'\", \"'src_ip_bytes'\", \"'dst_pkts'\", \"'dst_ip_bytes'\", \"'dns_query'\", \"'dns_qclass'\", \"'dns_qtype'\", \"'dns_rcode'\", \"'dns_AA'\", \"'dns_RD'\", \"'dns_RA'\", \"'dns_rejected'\", \"'ssl_version'\", \"'ssl_cipher'\", \"'ssl_resumed'\", \"'ssl_established'\", \"'ssl_subject'\", \"'ssl_issuer'\", \"'http_trans_depth'\", \"'http_method'\", \"'http_uri'\", \"'http_version'\", \"'http_request_body_len'\", \"'http_response_body_len'\", \"'http_status_code'\", \"'http_user_agent'\", \"'http_orig_mime_types'\", \"'http_resp_mime_types'\", \"'weird_name'\", \"'weird_addl'\", \"'weird_notice'\", \"'label'\", \"'type'\"]\n",
      "dtype(label) = int64\n"
     ]
    }
   ],
   "source": [
    "import pandas as pd\n",
    "df = pd.read_csv(\"data/train_test_network.csv\")\n",
    "# show columns with exact chars (repr) to detect spaces/case\n",
    "print([repr(c) for c in df.columns.tolist()])\n",
    "\n",
    "# show dtype of the candidate target column\n",
    "if 'label' in df.columns:\n",
    "    print(\"dtype(label) =\", df['label'].dtype)\n",
    "else:\n",
    "    print(\"'label' not present exactly - check list above.\")\n"
   ]
  },
  {
   "cell_type": "code",
   "execution_count": 2,
   "id": "31b2981f",
   "metadata": {},
   "outputs": [
    {
     "name": "stdout",
     "output_type": "stream",
     "text": [
      "Train shape: (168834, 43) Validation shape: (42209, 43)\n",
      "Numeric cols: 17 Categorical cols: 26\n",
      "Processed shapes: (168834, 1674) (42209, 1674)\n"
     ]
    }
   ],
   "source": [
    "import pandas as pd\n",
    "import os\n",
    "from sklearn.model_selection import train_test_split\n",
    "from src.data_pipeline import build_preprocessing_pipeline\n",
    "from src.constants import DATA_PATH, TARGET_COL, SEED\n",
    "\n",
    "# --- Load dataset ---\n",
    "df = pd.read_csv(DATA_PATH)\n",
    "\n",
    "# --- Build preprocessing pipeline ---\n",
    "preproc, num_cols, cat_cols = build_preprocessing_pipeline(df, TARGET_COL)\n",
    "\n",
    "# --- Train/validation split ---\n",
    "X = df.drop(columns=[TARGET_COL])\n",
    "y = df[TARGET_COL]\n",
    "X_train, X_val, y_train, y_val = train_test_split(\n",
    "    X, y, test_size=0.2, stratify=y, random_state=SEED\n",
    ")\n",
    "\n",
    "print(\"Train shape:\", X_train.shape, \"Validation shape:\", X_val.shape)\n",
    "print(\"Numeric cols:\", len(num_cols), \"Categorical cols:\", len(cat_cols))\n",
    "\n",
    "# --- Fit pipeline (save to reuse later) ---\n",
    "X_train_proc = preproc.fit_transform(X_train)\n",
    "X_val_proc = preproc.transform(X_val)\n",
    "\n",
    "print(\"Processed shapes:\", X_train_proc.shape, X_val_proc.shape)\n"
   ]
  }
 ],
 "metadata": {
  "kernelspec": {
   "display_name": "venv",
   "language": "python",
   "name": "python3"
  },
  "language_info": {
   "codemirror_mode": {
    "name": "ipython",
    "version": 3
   },
   "file_extension": ".py",
   "mimetype": "text/x-python",
   "name": "python",
   "nbconvert_exporter": "python",
   "pygments_lexer": "ipython3",
   "version": "3.10.0"
  }
 },
 "nbformat": 4,
 "nbformat_minor": 5
}
